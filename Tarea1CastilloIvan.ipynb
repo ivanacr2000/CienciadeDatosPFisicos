{
 "cells": [
  {
   "cell_type": "markdown",
   "id": "8da60a90",
   "metadata": {},
   "source": [
    "# <span style='color:Purple'> Ivan Alexis Castillo Reynoso </span>\n",
    "## <span style='color:Orange'> Tarea 1: Repaso de los conceptos básicos de Python  </span>"
   ]
  },
  {
   "cell_type": "code",
   "execution_count": 1,
   "id": "d6388e1c",
   "metadata": {},
   "outputs": [],
   "source": [
    "import numpy as np\n",
    "from random import randint\n",
    "from matplotlib import pyplot as plt"
   ]
  },
  {
   "cell_type": "markdown",
   "id": "5460c487",
   "metadata": {},
   "source": [
    "### Ciencia de datos para físicos: Facultad de ciencias, UNAM\n",
    "#### Profesores: Karen Rubí Jiménez-López, Pedro Arturo Flores-Silva\n",
    "\n",
    "**Instrucciones:** Este notebook contiene una serie de ejercicios que deben ser resueltos. Cada ejercicio se encuentra en una celda, ya sea de código o Markdown. Debes crear una o dos *celdas debajo de cada ejercicio* con tu(s) respectiva(s) respuestas. No modifiques las celdas originales.\n",
    "\n",
    "Recuerda que para ejecutar el código de una celda, presionar `Ctlr + Enter` o bien el boton de `play` en el editor Jupyter notebook.\n",
    "\n",
    "Cada ejercicio tendrá diferente valor, y se indicará en la celda de éste. La calificación final será la suma de los puntos obtenidos en cada ejercicio. Se calificará considerando la calidad de la respuesta, la claridad de la explicación y la correctitud del código. Por ejemplo, si el código no ejecuta la respuesta correcta pero se da una idea textual, se demuestra que hay comprensión del problema y el código hace sentido para el revisor, se otorgará una calificación parcial. Esto es, las respuestas no solo se evaluarán como bien o mal, sino que se considerará el esfuerzo.\n",
    "\n",
    "El codigo que realices debes comentarlo donde creas necesario, no vale no hacer ningún comentario. Recuerda que los comentarios son importantes para que el código sea legible y entendible, éstos se agregan con el símbolo #. Para las funciones y/o clases que crees, agrega la documentación correspondiente (docstring), éste se agrega con `\"\"\" docstring \"\"\"`."
   ]
  },
  {
   "cell_type": "markdown",
   "id": "66df713a",
   "metadata": {},
   "source": [
    "### Ejercicio 1 (1 punto):\n",
    "En una celda Markdown contesta: \n",
    "* ¿Qué es una palabra reservada en python? Enlista 5 ejemplos de nombres reservados en python y describe su función.\n",
    "* Coloca tres ejemplos de nombres de variables que no son válidos en python. Explica por qué no son válidos."
   ]
  },
  {
   "cell_type": "markdown",
   "id": "c855e0f3",
   "metadata": {},
   "source": [
    "#### ¿Qué es una palabra reservada en python? Enlista 5 ejemplos de nombres reservados en python y describe su función\n",
    "\n",
    "Una palabra reservada es una palabra que tiene una función designada en python y por lo tanto no se puede usar\n",
    "\n",
    "def -> Se usa para definir funciones.\n",
    "\n",
    "max -> Se usa para encontrar el maximo en una función o lista.\n",
    "\n",
    "if -> Se usa para imponer condiciones.\n",
    "\n",
    "print -> Se usa para imprimir algo en la pantalla.\n",
    "\n",
    "complex -> Para definir un número complejo.\n",
    "\n",
    "####  Coloca tres ejemplos de nombres de variables que no son válidos en python. Explica por qué no son válidos.\n",
    "\n",
    "1variable -> No se puede iniciar una variable con un número\n",
    "\n",
    "Vari.able -> Solo se pueden usar numeros, letras y guión bajo\n",
    "\n",
    "int -> Es una palabra reservada"
   ]
  },
  {
   "cell_type": "markdown",
   "id": "8f4fd89b",
   "metadata": {},
   "source": [
    "### Ejercicio 2 (1 punto):\n",
    "\n",
    "En una celda de código, escribe una función que encuentre las raíces de cualquier polinomio de segundo grado (implementar la chicharronera). En una celda markdown detalla posibles casos en la cual la función podría fallar.\n",
    "Usa dicha función para encontrar las raíces del polinomio $f(x) = 10x^2 - 2x$ e imprimelas en pantalla."
   ]
  },
  {
   "cell_type": "code",
   "execution_count": 2,
   "id": "5521568c",
   "metadata": {},
   "outputs": [],
   "source": [
    "def raizcuadrada(a,b,c):\n",
    "    '''Encuentra las raices de polinomios de segundo grado'''\n",
    "    dis=b**2-4*a*c\n",
    "    if dis>=0:\n",
    "        x1=(-b+np.sqrt(dis))/(2*a)\n",
    "        x2=(-b-np.sqrt(dis))/(2*a)\n",
    "    else:\n",
    "        x1=(-b+complex(0,np.sqrt(-dis)))/(2*a)\n",
    "        x2=(-b-complex(0,np.sqrt(-dis)))/(2*a)\n",
    "    print('Las raices son:')\n",
    "    return(x1,x2)"
   ]
  },
  {
   "cell_type": "markdown",
   "id": "df0d9319",
   "metadata": {},
   "source": [
    "Podría fallar si a=0 ó si los elementos que se dan no son números."
   ]
  },
  {
   "cell_type": "code",
   "execution_count": 3,
   "id": "3f25d484",
   "metadata": {},
   "outputs": [
    {
     "name": "stdout",
     "output_type": "stream",
     "text": [
      "Las raices son:\n",
      "(-0.2679491924311228, -3.732050807568877)\n",
      "Las raices son:\n",
      "((-0.25+0.9682458365518543j), (-0.25-0.9682458365518543j))\n",
      "\n",
      " Polinomio 10x^2-2x\n",
      "Las raices son:\n",
      "(0.2, 0.0)\n"
     ]
    }
   ],
   "source": [
    "#Funciona cuando el discriminante es menor a cero.\n",
    "print(raizcuadrada(1,4,1))\n",
    "print(raizcuadrada(2,1,2))\n",
    "\n",
    "print('\\n Polinomio 10x^2-2x')\n",
    "print(raizcuadrada(10,-2,0))"
   ]
  },
  {
   "cell_type": "markdown",
   "id": "7610c62b",
   "metadata": {},
   "source": [
    "### Ejercicio 3 (1 punto):\n",
    "\n",
    "*Caida libre*: El gran Galileo Galilei subió la torre de Pisa para determinar el tiempo que tarda un objeto en caer desde una altura $H$ al suelo. Para ello, colocó un objeto de masa $m=100$ kg en la torre y lo dejó caer. El tiempo que tardó en caer fue $t=0.05616667$ minutos.\n",
    "\n",
    "Considerando que la aceleración de la gravedad es $g=9.8$ $\\frac{m}{s^2}$, escribe un programa que determine la altura de la torre de Pisa. El programa debe imprimir la altura en la pantalla.\n",
    "\n",
    "Recuerda que el movimiento de caída libre simplificado cumple la ecuación: $y(t) = H + vt - \\frac{1}{2}gt^2$."
   ]
  },
  {
   "cell_type": "code",
   "execution_count": 4,
   "id": "e41a79e2",
   "metadata": {},
   "outputs": [
    {
     "name": "stdout",
     "output_type": "stream",
     "text": [
      "La altura de la torre de pisa es 111.29763321040042 metros\n"
     ]
    }
   ],
   "source": [
    "#Se definio una funcion para la altura\n",
    "def altura(vo,t):\n",
    "    g=9.8\n",
    "    H=g*(t**2)-vo*t\n",
    "    return H\n",
    "#Se cambiaron los minutos a segundos\n",
    "timseg=0.05616667*60\n",
    "#Se llamo la función\n",
    "H=altura(0,timseg)\n",
    "print('La altura de la torre de pisa es {} metros'.format(H))"
   ]
  },
  {
   "cell_type": "markdown",
   "id": "bf2d28e7",
   "metadata": {},
   "source": [
    "### Ejercicio 4 (1 punto):\n",
    "Crea una lista de números enteros del 0 al 99 : `lista = [0,1, 2, 3, 4, ... , 95, 96, 97, 98, 99]` (6 puntos menos si creas la lista manualmente).\n",
    " \n",
    "Escribe un programa que imprima en la pantalla una la lista que cumpla con las siguientes condiciones:\n",
    "* Los ultimos 10 elementos: debe imprimir lo siguiente `[90, 91, 92, 93, 94, 95, 96, 97, 98, 99]`.\n",
    "* Los primeros 11 elementos: debe imprimir lo siguiente `[0, 1, 2, 3, 4, 5, 6, 7, 8, 9, 10]`.\n",
    "* La serie de elementos de la lista que están entre 60 y 75: debe imprimir lo siguiente `[60, 61, 62, 63, 64, 65, 66, 67, 68, 69, 70, 71, 72, 73, 74, 75]`.\n",
    "* El número 50: debe imprimir lo siguiente `50`.\n",
    "\n",
    "Debes aplicar el concepto de *slicing* para resolver este ejercicio (notación de puntos `[:]`).\n",
    "\n",
    "Puntos menos si se crean listas nuevas para cada caso y/o se seleccionan manualmente los valores."
   ]
  },
  {
   "cell_type": "code",
   "execution_count": 5,
   "id": "a555b345",
   "metadata": {},
   "outputs": [
    {
     "name": "stdout",
     "output_type": "stream",
     "text": [
      "[90, 91, 92, 93, 94, 95, 96, 97, 98, 99]\n",
      "[0, 1, 2, 3, 4, 5, 6, 7, 8, 9, 10]\n",
      "[60, 61, 62, 63, 64, 65, 66, 67, 68, 69, 70, 71, 72, 73, 74, 75]\n",
      "[50]\n",
      "50\n"
     ]
    }
   ],
   "source": [
    "#Definimos la lista\n",
    "listanum=[numero for numero in range(0,100)]\n",
    "\n",
    "#Definimos una función para imprimir las listas\n",
    "def imprime(n,m):\n",
    "    l=listanum[n:m]\n",
    "    print(l)\n",
    "\n",
    "#Llamamos a la función para las diferentes listas\n",
    "imprime(-10,None)\n",
    "imprime(None,11)\n",
    "imprime(60,76)\n",
    "imprime(50,51)\n",
    "\n",
    "#Nota la función sirve para 50 pero lo imprime como lista, tambien se puede hacer con siguete forma:\n",
    "print(listanum[50])"
   ]
  },
  {
   "cell_type": "markdown",
   "id": "ac5b94d8",
   "metadata": {},
   "source": [
    "### Ejercicio 5 (1 punto):\n",
    "Crea una lista de números enteros del 0 al 1000. A partir de dicha lista:\n",
    "* Guarda en una variable una lista con los números pares usando ciclos y condicionales. Imprime los últimos 10 elementos de la lista final.\n",
    "* Guarda en una variable una lista con los números impares usando listas comprensivas (comprehension list). Imprime los primeros 10 elementos de la lista final."
   ]
  },
  {
   "cell_type": "code",
   "execution_count": 6,
   "id": "891e1f8a",
   "metadata": {},
   "outputs": [
    {
     "name": "stdout",
     "output_type": "stream",
     "text": [
      "[982, 984, 986, 988, 990, 992, 994, 996, 998, 1000]\n",
      "[1, 3, 5, 7, 9, 11, 13, 15, 17, 19]\n"
     ]
    }
   ],
   "source": [
    "#Creamos la lista de números del 0 al 1000\n",
    "listanum2=[num for num in range(0,1000+1)]\n",
    "#Definimos las listas donde guardaremos los pares e impares\n",
    "pares,impares=[],[]\n",
    "#Ciclo for para seleccionar los pares e impares\n",
    "for num in listanum2:\n",
    "    if num%2==0:\n",
    "        pares.append(num)\n",
    "    else:\n",
    "        impares.append(num)\n",
    "#Finalmene iprimimos lo que se pide        \n",
    "print(pares[-10:])\n",
    "print(impares[:10])"
   ]
  },
  {
   "cell_type": "markdown",
   "id": "00462693",
   "metadata": {},
   "source": [
    "### Ejercicio 6 (2 puntos): Aproximación de $\\pi$\n",
    "Una de las formas más sencillas de aproximar $\\pi$ es mediante la siguiente serie infinita de Leibniz:\n",
    "$$\\frac{\\pi}{4} = \\sum_{n=0}^{\\infty}\\frac{(-1)^{n}}{(2n+1)} = \\frac{1}{1} - \\frac{1}{3} + \\frac{1}{5}-\\frac{1}{7}+\\frac{1}{9}-...$$\n",
    "\n",
    "crea una función para aproximar $\\pi$ utilizando la serie de Leibniz. Usa n = 100000 e imprime el valor de tu aproximación tanto el valor de $\\frac{\\pi}{4}$ como $\\pi$.\n",
    "\n",
    "El valor de $\\pi$ se obtiene al despejar:\n",
    "$$\\pi = 4 * \\left(\\sum_{n=0}^{\\infty}\\frac{(-1)^{n}}{(2n+1)} \\right)$$\n",
    "\n",
    "La siguiente celda de codigo ofrece el valor de $\\frac{\\pi}{4}$"
   ]
  },
  {
   "cell_type": "code",
   "execution_count": 7,
   "id": "a4a31d07",
   "metadata": {},
   "outputs": [
    {
     "name": "stdout",
     "output_type": "stream",
     "text": [
      "El valor de pi/4 es aproximadamente 0.7853981633974483\n"
     ]
    }
   ],
   "source": [
    "#El valor de pi/4\n",
    "print(\"El valor de pi/4 es aproximadamente {}\".format(np.pi/4))"
   ]
  },
  {
   "cell_type": "code",
   "execution_count": 8,
   "id": "405690f2",
   "metadata": {},
   "outputs": [
    {
     "name": "stdout",
     "output_type": "stream",
     "text": [
      "3.1415826535897198\n",
      "0.7853956633974299\n"
     ]
    }
   ],
   "source": [
    "#Definimos una función para la aproximarnos con cualquier n.\n",
    "def aproximacion(n):\n",
    "    pi=0\n",
    "    for i in range(n):\n",
    "        pi+=4*((-1)**(i))/(2*i+1)\n",
    "    return(pi)\n",
    "#Llamamos a la función, nota: se puede eliminar el 4* en la iteración para obtener pi/4 \n",
    "print(aproximacion(100000))\n",
    "print(aproximacion(100000)/4)"
   ]
  },
  {
   "cell_type": "markdown",
   "id": "d0c28e6e",
   "metadata": {},
   "source": [
    "### Ejercicio 7 (1 puntos): Identificador de vocales\n",
    "\n",
    "Escribe una función que reciba una cadena, por ejemplo 'el pErro de la tiA chOnita' y regrese la cantidad de vocales que contiene. La función debe contener varios casos de prueba, if, elif y else. Con la cadena de ejemplo, imprime en pantalla el resultado de la función (10).\n",
    "\n",
    "Para conocer si un caracter es una vocal, primero debes descomponer la cadena en caracteres individuales. Para ello observa el siguiente código:"
   ]
  },
  {
   "cell_type": "code",
   "execution_count": 9,
   "id": "55a65e0f",
   "metadata": {},
   "outputs": [
    {
     "name": "stdout",
     "output_type": "stream",
     "text": [
      "['e', 'l', ' ', 'p', 'E', 'r', 'r', 'o', ' ', 'd', 'e', ' ', 'l', 'a', ' ', 't', 'i', 'A', ' ', 'c', 'h', 'O', 'n', 'i', 't', 'a']\n"
     ]
    }
   ],
   "source": [
    "# Divide una cadena en caracteres individuales\n",
    "cadena_prueba = 'el pErro de la tiA chOnita'\n",
    "caracteres_individuales = list(cadena_prueba)\n",
    "print(caracteres_individuales)"
   ]
  },
  {
   "cell_type": "code",
   "execution_count": 10,
   "id": "b6f46615",
   "metadata": {},
   "outputs": [],
   "source": [
    "#Definimos la función para encontrar las vocales\n",
    "def Vocales(cadena):\n",
    "    \"\"\"Programa para encontrar vocales.Nota: el programa no considera acentos\"\"\"\n",
    "    if type(cadena)!=str:\n",
    "        \"\"\"Se pide que sea un str\"\"\"\n",
    "        print('{} no es una cadena de caracteres'.format(cadena))\n",
    "    else:\n",
    "        \"\"\"Definimos la lista de vocales, un contador y comparamos con cada elemento de voca\"\"\"\n",
    "        voca=['a','e','i','o','u','A','E','I','O','U']\n",
    "        lista=list(cadena)\n",
    "        contador=0\n",
    "        for i in lista:\n",
    "            for j in voca:\n",
    "                if j==i:\n",
    "                    contador+=1\n",
    "        print('La cadena de caracteres tiene {} vocales'.format(contador))    "
   ]
  },
  {
   "cell_type": "code",
   "execution_count": 11,
   "id": "7a51e716",
   "metadata": {},
   "outputs": [
    {
     "name": "stdout",
     "output_type": "stream",
     "text": [
      "La cadena de caracteres tiene 10 vocales\n"
     ]
    }
   ],
   "source": [
    "Vocales('el pErro de la tiA chOnita')"
   ]
  },
  {
   "cell_type": "markdown",
   "id": "fb89fa24",
   "metadata": {},
   "source": [
    "### Ejercicio 8 (2 puntos):\n",
    "\n",
    "Escribe una clase \"calculadora\" que regrese el resultado de las operaciones de suma, resta, multiplicacion, division, modulo y potencia. La clase debe contener un método para cada operación.\n",
    "\n",
    "Los métodos que pudiesen presentar errores como division entre cero, deben ser manejados de tal manera que el programa no imprima ningun error (vimos una clausula para hacer esto).\n",
    "\n",
    "Adicional a esto, los métodos modulo y potencia deben ser generales, es decir, deben funcionar para cualquier número entero positivo (es un parámetro extra del método). Por ejemplo, la potencia de 2 elevado a 3 es 8, la potencia de 5 elevado a 3 es 125, etc.\n",
    "\n",
    "Crea una instancia de la clase calculadora y prueba cada uno de los métodos, con valores de tu elección. Para los métodos que pudiesen presentar errores da dos ejemplos, uno totalmente funcional (3/5 por ejemplo) y otro que sea conflictivo pero que no regresa ningún error (4/0 por ejemplo)."
   ]
  },
  {
   "cell_type": "code",
   "execution_count": 12,
   "id": "a1e37ad2",
   "metadata": {},
   "outputs": [],
   "source": [
    "'''Se creo la clase calculadora con las operaciones pedidas y se agrego la raiz cuadrada \n",
    " aunque ya viene incluida en la potencia'''\n",
    "\n",
    "class Calculadora():\n",
    "\n",
    "    def __init__(self, marca):\n",
    "\n",
    "        self.marca = marca\n",
    "\n",
    "    def suma(self, a, b):\n",
    "\n",
    "        return a + b\n",
    "    \n",
    "    def resta(self, a, b):\n",
    "\n",
    "        return a - b\n",
    "\n",
    "    def multiplicacion(self, a, b):\n",
    "\n",
    "        return a*b\n",
    "    \n",
    "    def division(self, a, b):\n",
    "\n",
    "        try:\n",
    "            return a/b\n",
    "        except:\n",
    "            print('Error. División entre cero')\n",
    "            return None\n",
    "        \n",
    "    def modulo(self, a, b):\n",
    "        \n",
    "        try:\n",
    "            return a%b\n",
    "        except:\n",
    "            print('Error. División entre cero')\n",
    "            return None\n",
    "    \n",
    "    def potencia(self, a, b):\n",
    "        \n",
    "        if a==0 and b<0:\n",
    "            print('Error. Indeterminado')\n",
    "        elif a==b==0:\n",
    "            print('Error. Indeterminado')\n",
    "        else:\n",
    "            return a**b\n",
    "    \n",
    "    def raiz(self, a):\n",
    "        if a>=0:\n",
    "            return np.sqrt(a)\n",
    "        else:\n",
    "            return complex(0,np.sqrt(-a))"
   ]
  },
  {
   "cell_type": "code",
   "execution_count": 13,
   "id": "454e7723",
   "metadata": {},
   "outputs": [
    {
     "name": "stdout",
     "output_type": "stream",
     "text": [
      "\n",
      " Marca\n",
      "Hp\n",
      "\n",
      " Suma\n",
      "6\n",
      "\n",
      " Resta\n",
      "3\n",
      "\n",
      " Multiplicación\n",
      "2\n",
      "\n",
      " División\n",
      "0.5\n",
      "Error. División entre cero\n",
      "None\n",
      "\n",
      " Modulo\n",
      "1\n",
      "Error. División entre cero\n",
      "None\n",
      "\n",
      " Potencia\n",
      "0\n",
      "0.25\n",
      "-1\n",
      "2.0\n",
      "1\n",
      "Error. Indeterminado\n",
      "None\n",
      "Error. Indeterminado\n",
      "None\n",
      "\n",
      " Raiz\n",
      "1.4142135623730951\n",
      "1.4142135623730951j\n",
      "0.0\n"
     ]
    }
   ],
   "source": [
    "Hp=Calculadora('Hp')\n",
    "print('\\n Marca')\n",
    "print(Hp.marca)\n",
    "print('\\n Suma')\n",
    "print(Hp.suma(2,4))\n",
    "print('\\n Resta')\n",
    "print(Hp.suma(1,2))\n",
    "print('\\n Multiplicación')\n",
    "print(Hp.multiplicacion(1,2))\n",
    "#La división puede presentar problemas en la división por cero\n",
    "print('\\n División')\n",
    "print(Hp.division(1,2))\n",
    "print(Hp.division(1,0))\n",
    "#El moduló puede presentar problemas en la división por cero\n",
    "print('\\n Modulo')\n",
    "print(Hp.modulo(1,2))\n",
    "print(Hp.modulo(1,0))\n",
    "#La potencia puede presentar problemas en potencias como 0^(-n) por la división por cero.\n",
    "#Funciona para decimales y no marcaba error en 0^0 pero eso es indereminado, así que se especifico.\n",
    "#Puede presentar problemas al elevar numeros de la forma (-n)^(1/(2m)) (Raices pares)\n",
    "print('\\n Potencia')\n",
    "print(Hp.potencia(0,5))\n",
    "print(Hp.potencia(2,-2))\n",
    "print(Hp.potencia(-1,3))\n",
    "print(Hp.potencia(4,0.5))\n",
    "print(Hp.potencia(-1,2))\n",
    "print(Hp.potencia(0,-2))\n",
    "print(Hp.potencia(0,0))\n",
    "print('\\n Raiz')\n",
    "print(Hp.raiz(2))\n",
    "print(Hp.raiz(-2))\n",
    "print(Hp.raiz(0))"
   ]
  },
  {
   "cell_type": "markdown",
   "id": "c6e4da53",
   "metadata": {},
   "source": [
    "### Ejercicio de puntos extras opcional (1 punto):\n",
    "\n",
    "Supóngamos que tenemos una lista de números enteros y queremos encontrar el número más grande. Por ejemplo, si la lista es `[1, 2, 3, 4, 5]` el número más grande es 5. Crea una función que encuentre el número más grande en una lista de números. La función debe regresar el número más grande y el índice en el que se encuentra. Prueba la función con una lista de números de tu elección."
   ]
  },
  {
   "cell_type": "code",
   "execution_count": 14,
   "id": "e03a3e0b",
   "metadata": {},
   "outputs": [],
   "source": [
    "#Nota si hay dos numeros maximos iguales en la lista presentara el que se encuentre primero en la lista\n",
    "def maximo(lista):\n",
    "    maxi = lista[0]\n",
    "    con=0\n",
    "    for i in range(len(lista)):\n",
    "        if lista[i] > maxi:\n",
    "            con=i\n",
    "            maxi = lista[i]\n",
    "    print('El maximo es {} y esta en la posición {}'.format(maxi,con))\n",
    "    return None"
   ]
  },
  {
   "cell_type": "code",
   "execution_count": 15,
   "id": "e47cf218",
   "metadata": {},
   "outputs": [
    {
     "name": "stdout",
     "output_type": "stream",
     "text": [
      "El maximo es 131 y esta en la posición 6\n",
      "El maximo es 16 y esta en la posición 4\n"
     ]
    }
   ],
   "source": [
    "maximo([15,1,10,15,-1,55,131])\n",
    "maximo([15,1,10,-5,16,5,16])"
   ]
  },
  {
   "cell_type": "markdown",
   "id": "525883b3",
   "metadata": {},
   "source": [
    "### Ejercicio de puntos extras opcional (3 puntos):\n",
    "\n",
    "Supóngamos que tenemos un dado convencional de 6 caras. Crea una función que simule el lanzamiento de un dado. La función debe regresar un número aleatorio entre 1 y 6.\n",
    "\n",
    "Sabemos que la probabilidad de que salga un número es de $\\frac{1}{6}$, es decir, la probabilidad de que salga un 1 es de $\\frac{1}{6}$, la probabilidad de que salga un 2 es de $\\frac{1}{6}$, etc.\n",
    "\n",
    "* Prueba la función con 6 lanzamientos, en una celda markdown explica porqué el resultado es dificilmente [1, 2, 3, 4, 5, 6].\n",
    "\n",
    "* Prueba la función con 1000 lanzamientos, crea una grafica de barras de los resultados (investiga como puedes graficar los resultados en una grafica de barras) y explica a que distribucion se parece y porqué es así.\n",
    "\n",
    "Hint: Para crear los números aleatorios, puedes usar la función `random.randint()`. O bien, usar el modulo numpy para crearlos. Para graficar los resultados, puedes usar la libreria matplotlib, seaborn, plotly o cualquiera que se te haga más fácil."
   ]
  },
  {
   "cell_type": "code",
   "execution_count": 16,
   "id": "78edc8f8",
   "metadata": {},
   "outputs": [],
   "source": [
    "def dado():\n",
    "    d=randint(1,6)\n",
    "    return d"
   ]
  },
  {
   "cell_type": "code",
   "execution_count": 17,
   "id": "5d7db25e",
   "metadata": {},
   "outputs": [
    {
     "name": "stdout",
     "output_type": "stream",
     "text": [
      "[2, 3, 5, 6, 3, 2]\n"
     ]
    }
   ],
   "source": [
    "lista=[]\n",
    "for i in range(6):\n",
    "    d=dado()\n",
    "    lista.append(d)\n",
    "print(lista)"
   ]
  },
  {
   "cell_type": "markdown",
   "id": "88677369",
   "metadata": {},
   "source": [
    "Por la probabilidad que tiene cada uno de los números, ya que es 1/6 para cada número."
   ]
  },
  {
   "cell_type": "code",
   "execution_count": 18,
   "id": "bf9b1db4",
   "metadata": {},
   "outputs": [
    {
     "data": {
      "image/png": "[encoded data removed]",
      "text/plain": [
       "<Figure size 864x432 with 1 Axes>"
      ]
     },
     "metadata": {
      "needs_background": "light"
     },
     "output_type": "display_data"
    }
   ],
   "source": [
    "lista2=[]\n",
    "for i in range(1000):\n",
    "    d=dado()\n",
    "    lista2.append(d)\n",
    "plt.figure(figsize=(12,6)) \n",
    "plt.hist(lista2, bins=6,color='springgreen',edgecolor='slategray')\n",
    "plt.ylabel('some numbers')\n",
    "plt.xlabel('some numbers')\n",
    "plt.show()"
   ]
  },
  {
   "cell_type": "code",
   "execution_count": null,
   "id": "36c0b690",
   "metadata": {},
   "outputs": [],
   "source": []
  }
 ],
 "metadata": {
  "kernelspec": {
   "display_name": "Python 3 (ipykernel)",
   "language": "python",
   "name": "python3"
  },
  "language_info": {
   "codemirror_mode": {
    "name": "ipython",
    "version": 3
   },
   "file_extension": ".py",
   "mimetype": "text/x-python",
   "name": "python",
   "nbconvert_exporter": "python",
   "pygments_lexer": "ipython3",
   "version": "3.9.7"
  },
  "vscode": {
   "interpreter": {
    "hash": "ad2bdc8ecc057115af97d19610ffacc2b4e99fae6737bb82f5d7fb13d2f2c186"
   }
  }
 },
 "nbformat": 4,
 "nbformat_minor": 5
}
