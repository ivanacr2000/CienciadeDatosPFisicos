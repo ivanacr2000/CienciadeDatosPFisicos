{
 "cells": [
  {
   "attachments": {},
   "cell_type": "markdown",
   "id": "e44628a5",
   "metadata": {},
   "source": [
    "\n",
    "\n",
    "# <span style='color:Orange'>  Musica y salud mental </span>\n",
    "#### <span style='color:Violet'>  Ivan Alexis Castillo Reynoso </span>\n",
    "#### <span style='color:Violet'>  Temas selectos de física computacional.  Tarea 2.  </span>\n"
   ]
  },
  {
   "attachments": {},
   "cell_type": "markdown",
   "id": "bd044d7d",
   "metadata": {},
   "source": [
    "\n",
    "### <span style='color:Orange'> Objetivo: estudiar si hay alguna relación entre diferentes géneros musicales, y la ansiedad y la depresión </span>"
   ]
  },
  {
   "cell_type": "code",
   "execution_count": 1,
   "id": "08724792",
   "metadata": {},
   "outputs": [],
   "source": [
    "# Se importan las paqueteriaas que se usarán en el trabajo\n",
    "import pandas as pd\n",
    "import seaborn as sns\n",
    "import re"
   ]
  },
  {
   "cell_type": "code",
   "execution_count": 2,
   "id": "827617be",
   "metadata": {},
   "outputs": [
    {
     "name": "stdout",
     "output_type": "stream",
     "text": [
      "['Timestamp', 'Age', 'Primary streaming service', 'Hours per day', 'While working', 'Instrumentalist', 'Composer', 'Fav genre', 'Exploratory', 'Foreign languages', 'BPM', 'Frequency [Classical]', 'Frequency [Country]', 'Frequency [EDM]', 'Frequency [Folk]', 'Frequency [Gospel]', 'Frequency [Hip hop]', 'Frequency [Jazz]', 'Frequency [K pop]', 'Frequency [Latin]', 'Frequency [Lofi]', 'Frequency [Metal]', 'Frequency [Pop]', 'Frequency [R&B]', 'Frequency [Rap]', 'Frequency [Rock]', 'Frequency [Video game music]', 'Anxiety', 'Depression', 'Insomnia', 'OCD', 'Music effects', 'Permissions']\n"
     ]
    }
   ],
   "source": [
    "# Se importa el dataset con el que se trabajara\n",
    "datos=pd.read_csv('dataset.csv')\n",
    "#Se imprimen los encabezados\n",
    "col=list(pd.DataFrame(datos))\n",
    "print(col)"
   ]
  },
  {
   "attachments": {},
   "cell_type": "markdown",
   "id": "a26ce35e",
   "metadata": {},
   "source": [
    "<span style='color:Violet'>  El conjunto de datos (MxMH) tiene información acerca de la música y autopercepción de diferntes enfermedades mentales. En el conjuto de datos se tienen categorias como la edad, el servicio de streaming principal, total de horas que se escucha musica al día,  si se escucha musica durante el trabajo o cuando se esta estudiando, si toca algún instrumento, género favorito, frecuencia con la que se escuchan diferentes tipos de música, autopercepción de diferentes enfermedades mentales, entre otros. El conjunto de datos se recopilo con un formulario de Google, en el cuál no había restricción de edad o ubicación, el formulario se público en varias redes sociales. Finalmente, las partes más importantes del data set son géneros, en donde se pregunto la frecuencia con que escuchan cada género musical y se dieron las opciones : Never, Rarerly, Sometimes y Very frequently; la segunda parte es la autopercepción de problemas mentales en una escala de 1 a 10</span>"
   ]
  },
  {
   "cell_type": "code",
   "execution_count": 3,
   "id": "948175c4",
   "metadata": {},
   "outputs": [
    {
     "name": "stderr",
     "output_type": "stream",
     "text": [
      "/var/folders/8k/c3_4tngj6wb535t25rzzmf_00000gn/T/ipykernel_40866/3804031074.py:3: FutureWarning: Possible nested set at position 1\n",
      "  datos.columns=[re.sub(r'[[]','_',x) for x in datos.columns]\n"
     ]
    }
   ],
   "source": [
    "#Se renombran las columnas para evitar que hay espacios y corchetes cuadrados.\n",
    "datos.columns=[re.sub(r'[ ]','_',x) for x in datos.columns]\n",
    "datos.columns=[re.sub(r'[[]','_',x) for x in datos.columns]\n",
    "datos.columns=[re.sub(r'[]]','_',x) for x in datos.columns] ;"
   ]
  },
  {
   "attachments": {},
   "cell_type": "markdown",
   "id": "4c80b3cb",
   "metadata": {},
   "source": [
    "\n",
    "<span style='color:Violet'> Se eligiran solo las columnas que se estudiaran, además se observaran las primeras filas del conjunto de datos. </span>\n",
    "\n",
    "<span style='color:Violet'> Nota: se elgieron solo esas Frequency debido a al punto 1. </span>"
   ]
  },
  {
   "cell_type": "code",
   "execution_count": 4,
   "id": "88e48542",
   "metadata": {},
   "outputs": [],
   "source": [
    "# Se seleccionan las columnas del set de datos \n",
    "datos=datos[['Fav_genre','Age','Frequency__Classical_','Frequency__Metal_','Frequency__Pop_','Frequency__Rock_','Anxiety', 'Depression','Insomnia']]"
   ]
  },
  {
   "cell_type": "code",
   "execution_count": 5,
   "id": "3fe43a0b",
   "metadata": {},
   "outputs": [
    {
     "data": {
      "text/html": [
       "<div>\n",
       "<style scoped>\n",
       "    .dataframe tbody tr th:only-of-type {\n",
       "        vertical-align: middle;\n",
       "    }\n",
       "\n",
       "    .dataframe tbody tr th {\n",
       "        vertical-align: top;\n",
       "    }\n",
       "\n",
       "    .dataframe thead th {\n",
       "        text-align: right;\n",
       "    }\n",
       "</style>\n",
       "<table border=\"1\" class=\"dataframe\">\n",
       "  <thead>\n",
       "    <tr style=\"text-align: right;\">\n",
       "      <th></th>\n",
       "      <th>Fav_genre</th>\n",
       "      <th>Age</th>\n",
       "      <th>Frequency__Classical_</th>\n",
       "      <th>Frequency__Metal_</th>\n",
       "      <th>Frequency__Pop_</th>\n",
       "      <th>Frequency__Rock_</th>\n",
       "      <th>Anxiety</th>\n",
       "      <th>Depression</th>\n",
       "      <th>Insomnia</th>\n",
       "    </tr>\n",
       "  </thead>\n",
       "  <tbody>\n",
       "    <tr>\n",
       "      <th>0</th>\n",
       "      <td>Latin</td>\n",
       "      <td>18</td>\n",
       "      <td>Rarely</td>\n",
       "      <td>Never</td>\n",
       "      <td>Very frequently</td>\n",
       "      <td>Never</td>\n",
       "      <td>3</td>\n",
       "      <td>0.0</td>\n",
       "      <td>1.0</td>\n",
       "    </tr>\n",
       "    <tr>\n",
       "      <th>1</th>\n",
       "      <td>Rock</td>\n",
       "      <td>63</td>\n",
       "      <td>Sometimes</td>\n",
       "      <td>Never</td>\n",
       "      <td>Sometimes</td>\n",
       "      <td>Very frequently</td>\n",
       "      <td>7</td>\n",
       "      <td>2.0</td>\n",
       "      <td>2.0</td>\n",
       "    </tr>\n",
       "    <tr>\n",
       "      <th>2</th>\n",
       "      <td>Video game music</td>\n",
       "      <td>18</td>\n",
       "      <td>Never</td>\n",
       "      <td>Sometimes</td>\n",
       "      <td>Rarely</td>\n",
       "      <td>Rarely</td>\n",
       "      <td>7</td>\n",
       "      <td>7.0</td>\n",
       "      <td>10.0</td>\n",
       "    </tr>\n",
       "  </tbody>\n",
       "</table>\n",
       "</div>"
      ],
      "text/plain": [
       "          Fav_genre  Age Frequency__Classical_ Frequency__Metal_  \\\n",
       "0             Latin   18                Rarely             Never   \n",
       "1              Rock   63             Sometimes             Never   \n",
       "2  Video game music   18                 Never         Sometimes   \n",
       "\n",
       "   Frequency__Pop_ Frequency__Rock_  Anxiety  Depression  Insomnia  \n",
       "0  Very frequently            Never        3         0.0       1.0  \n",
       "1        Sometimes  Very frequently        7         2.0       2.0  \n",
       "2           Rarely           Rarely        7         7.0      10.0  "
      ]
     },
     "execution_count": 5,
     "metadata": {},
     "output_type": "execute_result"
    }
   ],
   "source": [
    "# Se seleccionan las columnas del set de datos \n",
    "datos.head(3)"
   ]
  },
  {
   "cell_type": "code",
   "execution_count": 6,
   "id": "d5cf1b8f",
   "metadata": {},
   "outputs": [
    {
     "name": "stdout",
     "output_type": "stream",
     "text": [
      "<class 'pandas.core.frame.DataFrame'>\n",
      "RangeIndex: 736 entries, 0 to 735\n",
      "Data columns (total 9 columns):\n",
      " #   Column                 Non-Null Count  Dtype  \n",
      "---  ------                 --------------  -----  \n",
      " 0   Fav_genre              736 non-null    object \n",
      " 1   Age                    736 non-null    int64  \n",
      " 2   Frequency__Classical_  736 non-null    object \n",
      " 3   Frequency__Metal_      736 non-null    object \n",
      " 4   Frequency__Pop_        736 non-null    object \n",
      " 5   Frequency__Rock_       736 non-null    object \n",
      " 6   Anxiety                736 non-null    int64  \n",
      " 7   Depression             736 non-null    float64\n",
      " 8   Insomnia               736 non-null    float64\n",
      "dtypes: float64(2), int64(2), object(5)\n",
      "memory usage: 51.9+ KB\n"
     ]
    }
   ],
   "source": [
    "#Se imprime la información de las columnas.\n",
    "datos.info()"
   ]
  },
  {
   "attachments": {},
   "cell_type": "markdown",
   "id": "b17eca5d",
   "metadata": {},
   "source": [
    "<span style='color:Violet'> Se observan que hay 736 filas de datos de las 9 columnas que seleccionaron, adémas no hay datos nulos en estas columas, así que no se hara un tratamiento para eliminar dichos datos, porotra parte, se tienen columnas con objetos, enteros y flotantes. Las columnas que tienen objetos son las de género favorito y las frecuencias con que se escuchan los diferentes géneros musicales.</span>"
   ]
  },
  {
   "attachments": {},
   "cell_type": "markdown",
   "id": "9d7e17f2",
   "metadata": {},
   "source": [
    "### <span style='color:Orange'>1- Analizar el género favorito de música de la población. </span>\n",
    "\n",
    "<span style='color:Coral'> Se observaran los géneros favoritos de música de la población, para ello se  gráficaran en un histograma.</span>"
   ]
  },
  {
   "cell_type": "code",
   "execution_count": 7,
   "id": "2a932dca",
   "metadata": {},
   "outputs": [
    {
     "data": {
      "text/plain": [
       "<AxesSubplot:>"
      ]
     },
     "execution_count": 7,
     "metadata": {},
     "output_type": "execute_result"
    },
    {
     "data": {
      "image/png": "[encoded data removed]",
      "text/plain": [
       "<Figure size 432x288 with 1 Axes>"
      ]
     },
     "metadata": {
      "needs_background": "light"
     },
     "output_type": "display_data"
    }
   ],
   "source": [
    "#Se grafico la columna Fav_genre en un histograma.\n",
    "datos.Fav_genre.hist(bins=16,grid=False, xlabelsize=9,xrot=85,color='#63BCCC', rwidth=0.95)"
   ]
  },
  {
   "attachments": {},
   "cell_type": "markdown",
   "id": "3fa015ef",
   "metadata": {},
   "source": [
    "<span style='color:Violet'> Se tiene que en su mayoria las personas que constestaron la encuesta su género favorito de música es Rock, seguido el Pop, Metal y Música Clasica. Por ello, a partir de este punto nos centraremos en el estudio de estos cuatro géneros musicales, esto tambien se hace considerando el número de personas que les gustan estos generos sean mayores a 50. Además de ello se observa un poco de sesgo por el Rock en el data set que se tendrá que considerar en el análisis</span>"
   ]
  },
  {
   "attachments": {},
   "cell_type": "markdown",
   "id": "44893d59",
   "metadata": {},
   "source": [
    "### <span style='color:Orange'>2- Observar el rango de edades de los sujetos de estudio. </span>\n",
    "\n",
    "<span style='color:Coral'> En este punto se quiere observar el rango de edades en el que se encuentran los sujestos de estudio, para ello se hara un boxplot de las edades y además una descripción de la columna para ver los datos númericos. </span>"
   ]
  },
  {
   "cell_type": "code",
   "execution_count": 8,
   "id": "9ca82e2c",
   "metadata": {},
   "outputs": [
    {
     "data": {
      "image/png": "[encoded data removed]",
      "text/plain": [
       "<Figure size 432x288 with 1 Axes>"
      ]
     },
     "metadata": {
      "needs_background": "light"
     },
     "output_type": "display_data"
    }
   ],
   "source": [
    "#Se grafico el diagrama de caja para la columna de la edad.\n",
    "sns.boxplot(data=datos,x='Age',color='#63BCCC');"
   ]
  },
  {
   "cell_type": "code",
   "execution_count": 9,
   "id": "547829c7",
   "metadata": {},
   "outputs": [
    {
     "data": {
      "text/plain": [
       "count    736.000000\n",
       "mean      25.206522\n",
       "std       12.046769\n",
       "min       10.000000\n",
       "25%       18.000000\n",
       "50%       21.000000\n",
       "75%       28.000000\n",
       "max       89.000000\n",
       "Name: Age, dtype: float64"
      ]
     },
     "execution_count": 9,
     "metadata": {},
     "output_type": "execute_result"
    }
   ],
   "source": [
    "datos.Age.describe()"
   ]
  },
  {
   "attachments": {},
   "cell_type": "markdown",
   "id": "31a50894",
   "metadata": {},
   "source": [
    "<span style='color:Violet'> Se observa que el 50% las personas que contestaron la encuentas se encuentran entre los 18 y 28 años, además de que el promedio esta en 25.20, es decir, hay un sesgo en los datos de que los encuestados sean adolecentes o adultos jovenes. La edad mínima de los encuestados es 10 y la máxima 89, sin embargo, como se mencionó hay un sesgo a que los ecuestados sean adolecentes o adultos jovenes. Notamos que hay un sesgo hacia la izquierda, se presentan vario valores atipicos arriba de 40 años por lo tanto no hay tantas personas adultas y de la tercera edad.</span>"
   ]
  },
  {
   "attachments": {},
   "cell_type": "markdown",
   "id": "06370526",
   "metadata": {},
   "source": [
    "### <span style='color:Coral'>3- Observar la distribución de las enfermedades mentales  </span>\n",
    "\n",
    "<span style='color:Coral'> En este punto se observara la autopercepción de tres problemas mentales, ansiedad, depresión e insomnio, para ello se usaran diagrmas de caja.</span>"
   ]
  },
  {
   "cell_type": "code",
   "execution_count": 10,
   "id": "a2a89e4a",
   "metadata": {},
   "outputs": [
    {
     "data": {
      "text/plain": [
       "<AxesSubplot:>"
      ]
     },
     "execution_count": 10,
     "metadata": {},
     "output_type": "execute_result"
    },
    {
     "data": {
      "image/png": "[encoded data removed]",
      "text/plain": [
       "<Figure size 432x288 with 1 Axes>"
      ]
     },
     "metadata": {
      "needs_background": "light"
     },
     "output_type": "display_data"
    }
   ],
   "source": [
    "# Se seleccionan los datos de la autopercepción de los diferentes problemas mentales.\n",
    "Problemas=datos[['Anxiety','Depression','Insomnia']]\n",
    "# Se graficaron diagrmas de caja para cada uno de los problemas mentales.\n",
    "sns.boxplot(data=Problemas,palette=\"Set3\")"
   ]
  },
  {
   "cell_type": "code",
   "execution_count": 11,
   "id": "804ae660",
   "metadata": {},
   "outputs": [
    {
     "data": {
      "text/plain": [
       "Anxiety       5.836957\n",
       "Depression    4.796196\n",
       "Insomnia      3.738451\n",
       "dtype: float64"
      ]
     },
     "execution_count": 11,
     "metadata": {},
     "output_type": "execute_result"
    }
   ],
   "source": [
    "#Se calcularon los promedios para cada problema mental.\n",
    "Problemas.mean()"
   ]
  },
  {
   "attachments": {},
   "cell_type": "markdown",
   "id": "cbca9671",
   "metadata": {},
   "source": [
    "<span style='color:Violet'>  Se observa que hay los encuesdados, en general,  se perciben en mayor medida con ansiedad, seguido por la depresión y finalmente con insomnio, el promedio para la ansiedad es de 5.84, para la depresión es de 4.80 y para el insomnio es de 3.74. Observamos que para la depresión hay un asimetria positiva y para el insomnio hay asimetría negativa; como ya se mencionó en su mayoría las personas se perciben con un grado mayor de depresión en comparación con el insomnio, sin embargo, la ansiedad es el problemas más presente.  </span>"
   ]
  },
  {
   "attachments": {},
   "cell_type": "markdown",
   "id": "ec66c55b",
   "metadata": {},
   "source": [
    "### <span style='color:Orange'>4- Observar el género favorito y la salud mental  </span>\n",
    "\n",
    "<span style='color:Coral'> Se estudiara el género de música favorita y los problemas de salud mental, para ello se considerarám los géneros musicales: Rock, Metal, Pop y Música Clasica, y se divideran en estos cuatro grupos, posteriormente se sacaran los promedios de autopercepción de los diferentes problemas mentales para cada uno de estos grupos, posteriomente se dividiran en el promedio total de los problemas mentales y esto se pondra en un heatmap. </span>\n",
    "\n",
    "<span style='color:Coral'> Nota: Se dividieron los promedios de cada columna entre el promedio genral para poder visualizar que tanto difiere el promedio de cada uno de los géneros musicales con el promedio general. </span>"
   ]
  },
  {
   "cell_type": "code",
   "execution_count": 12,
   "id": "bf2526d1",
   "metadata": {},
   "outputs": [
    {
     "data": {
      "text/plain": [
       "<AxesSubplot:ylabel='Fav_genre'>"
      ]
     },
     "execution_count": 12,
     "metadata": {},
     "output_type": "execute_result"
    },
    {
     "data": {
      "image/png": "[encoded data removed]",
      "text/plain": [
       "<Figure size 432x288 with 2 Axes>"
      ]
     },
     "metadata": {
      "needs_background": "light"
     },
     "output_type": "display_data"
    }
   ],
   "source": [
    "# Se eligen las filas a estudiar.\n",
    "gen=datos[(datos['Fav_genre']=='Rock')|(datos['Fav_genre']=='Metal')|(datos['Fav_genre']=='Pop')|(datos['Fav_genre']=='Classical')]\n",
    "#Se eliminan la columna de edad.\n",
    "gen=gen.drop(columns=['Age'])\n",
    "#Se crea la tabla con los promedios\n",
    "gen2=gen.groupby('Fav_genre').mean()\n",
    "# Se acomodan los índices.\n",
    "gen2=gen2.reset_index()\n",
    "# Se definió la columna 'Fav_genre' como índice.\n",
    "gen2=gen2.set_index('Fav_genre')\n",
    "# Se dividiron las columnas entre el promedio total.\n",
    "gen2['Anxiety']/=5.836957\n",
    "gen2['Insomnia']/=3.738451\n",
    "gen2['Depression']/=4.796196 \n",
    "# Se grafico el heatmap.\n",
    "sns.heatmap(gen2,annot=gen2,fmt='.2f',cmap='crest')"
   ]
  },
  {
   "attachments": {},
   "cell_type": "markdown",
   "id": "d9f916ca",
   "metadata": {},
   "source": [
    "\n",
    "<span style='color:Violet'>  Se observa que en genral los promedios son cercanos al promedio total, sin embrago, se tiene un caso muy particular, el de la autopercepción de insomnio para los encuestados a los que les gusta el metal es mucho mayor que el promedio total, es decir, las personas que prefieren el metal suelen tener mayor insomnio; por otra parte, para la música clasica  se tiene que la relación del promedio con el promedio total para la ansiedad y la depresión es de 0.84 y 0.85 repectivamente, es decir, las personas que prefieren la música clasica se autoperciben en menor medida con deprención y ansiedad. Observamos que las personas que prefieren la música clasica presentan menos problemas mentales en comparación a los demás géneros; y el metal es el que presenta mayores problemas mentales que los demás.</span>\n"
   ]
  },
  {
   "attachments": {},
   "cell_type": "markdown",
   "id": "4e17171d",
   "metadata": {},
   "source": [
    "### <span style='color:Orange'> 5. Relación entre la musica clásica y los problemas metales.</span>\n",
    "\n",
    "<span style='color:Coral'> Se analizara la relación entre la frecuencia con que se escucha música clásica con los problemas, para esto, primero se observó que no hubiera menos de cien datos cada una de las clasificación de la frecuencia con la que se escucha música clasica. Posterioemente se presentan en una tabla los promedios de la percepción de problemas mentales con respecto a cada una de las variables de la frecuencia con la que se escucha música clasica. </span>"
   ]
  },
  {
   "cell_type": "code",
   "execution_count": 13,
   "id": "0e405181",
   "metadata": {},
   "outputs": [
    {
     "data": {
      "text/plain": [
       "Rarely             259\n",
       "Sometimes          200\n",
       "Never              169\n",
       "Very frequently    108\n",
       "Name: Frequency__Classical_, dtype: int64"
      ]
     },
     "execution_count": 13,
     "metadata": {},
     "output_type": "execute_result"
    }
   ],
   "source": [
    "#Se imprimieron el conteo de las variables de 'Frequency__Classical_'\n",
    "datos.Frequency__Classical_.value_counts()"
   ]
  },
  {
   "cell_type": "code",
   "execution_count": 14,
   "id": "dd9fa514",
   "metadata": {},
   "outputs": [
    {
     "data": {
      "text/html": [
       "<div>\n",
       "<style scoped>\n",
       "    .dataframe tbody tr th:only-of-type {\n",
       "        vertical-align: middle;\n",
       "    }\n",
       "\n",
       "    .dataframe tbody tr th {\n",
       "        vertical-align: top;\n",
       "    }\n",
       "\n",
       "    .dataframe thead th {\n",
       "        text-align: right;\n",
       "    }\n",
       "</style>\n",
       "<table border=\"1\" class=\"dataframe\">\n",
       "  <thead>\n",
       "    <tr style=\"text-align: right;\">\n",
       "      <th></th>\n",
       "      <th>Frequency__Classical_</th>\n",
       "      <th>Anxiety</th>\n",
       "      <th>Depression</th>\n",
       "      <th>Insomnia</th>\n",
       "    </tr>\n",
       "  </thead>\n",
       "  <tbody>\n",
       "    <tr>\n",
       "      <th>0</th>\n",
       "      <td>Never</td>\n",
       "      <td>1.022864</td>\n",
       "      <td>1.009799</td>\n",
       "      <td>0.946505</td>\n",
       "    </tr>\n",
       "    <tr>\n",
       "      <th>1</th>\n",
       "      <td>Rarely</td>\n",
       "      <td>0.998828</td>\n",
       "      <td>0.985739</td>\n",
       "      <td>0.949643</td>\n",
       "    </tr>\n",
       "    <tr>\n",
       "      <th>2</th>\n",
       "      <td>Sometimes</td>\n",
       "      <td>1.027076</td>\n",
       "      <td>1.031025</td>\n",
       "      <td>1.036526</td>\n",
       "    </tr>\n",
       "    <tr>\n",
       "      <th>3</th>\n",
       "      <td>Very frequently</td>\n",
       "      <td>0.916891</td>\n",
       "      <td>0.961410</td>\n",
       "      <td>1.136834</td>\n",
       "    </tr>\n",
       "  </tbody>\n",
       "</table>\n",
       "</div>"
      ],
      "text/plain": [
       "  Frequency__Classical_   Anxiety  Depression  Insomnia\n",
       "0                 Never  1.022864    1.009799  0.946505\n",
       "1                Rarely  0.998828    0.985739  0.949643\n",
       "2             Sometimes  1.027076    1.031025  1.036526\n",
       "3       Very frequently  0.916891    0.961410  1.136834"
      ]
     },
     "execution_count": 14,
     "metadata": {},
     "output_type": "execute_result"
    }
   ],
   "source": [
    "# Se elimino la columna 'Age'\n",
    "Clas=datos.drop(columns=['Age'])\n",
    "# Se agruparon los datos por la columna 'Frequency__Classical_' y se saco el promedio por grupo.\n",
    "Clas2=Clas.groupby(['Frequency__Classical_']).mean()\n",
    "# Se reacomodaron los indices.\n",
    "Clas2=Clas2.reset_index()\n",
    "# Se dividieron los promedios de cada columna entrer el promedio total\n",
    "Clas2['Anxiety']/=5.836957\n",
    "Clas2['Insomnia']/=3.738451\n",
    "Clas2['Depression']/=4.796196 \n",
    "# Se presenta ña tabla de los promedios entro los promedios totales \n",
    "Clas2\n"
   ]
  },
  {
   "attachments": {},
   "cell_type": "markdown",
   "id": "1856e469",
   "metadata": {},
   "source": [
    "<span style='color:Violet'>Se observa que en general, mientras más se escucha música clasica se presentan menos problemas de ansiedad y depresión, lo que se esperaba considerando el punto anterior, sin embargo, para el insomnio se observa que mientras más se escuche música clasica los problemas de insomnio son mayores, esto podría hacer pensar que gente con insomnio escucha música clasica para dormir, sin embargo esto no es concluyente, solo es una suposición. Podemos decir que si hay una relación entre la música clasica y los problemas mentales de ansiedad y depresión, siendo esta que mientras más se escucha música clasica, es menos probable que te autopercibas con depresión o ansiedad. </span>"
   ]
  },
  {
   "attachments": {},
   "cell_type": "markdown",
   "id": "fe25ee70",
   "metadata": {},
   "source": [
    "### <span style='color:Orange'> 6. Relación entre la frecuencia con que se essucha metal y las enfermedades metales.</span>\n",
    "\n",
    "<span style='color:Coral'>  Analógamente al punto anterior, se analizara la relación entre la frecuencia con que se escucha metal con los problemas, para esto, primero se observó que no hubiera menos de cien datos cada una de las clasificación de la frecuencia con la que se escucha música clasica. Posterioemente se graficaron los promedios de la percepción de problemas mentales con respecto a cada una de las variables de las frecuencias, es decir, se hizo un análisis con énfoque similar pero se presenta de manera distinto. </span>"
   ]
  },
  {
   "cell_type": "code",
   "execution_count": 15,
   "id": "b11d1617",
   "metadata": {},
   "outputs": [
    {
     "data": {
      "text/plain": [
       "Never              264\n",
       "Rarely             192\n",
       "Very frequently    146\n",
       "Sometimes          134\n",
       "Name: Frequency__Metal_, dtype: int64"
      ]
     },
     "execution_count": 15,
     "metadata": {},
     "output_type": "execute_result"
    }
   ],
   "source": [
    "datos.Frequency__Metal_.value_counts()"
   ]
  },
  {
   "cell_type": "code",
   "execution_count": 16,
   "id": "0f9749f5",
   "metadata": {},
   "outputs": [
    {
     "data": {
      "text/plain": [
       "<AxesSubplot:ylabel='Frequency__Metal_'>"
      ]
     },
     "execution_count": 16,
     "metadata": {},
     "output_type": "execute_result"
    },
    {
     "data": {
      "image/png": "[encoded data removed]",
      "text/plain": [
       "<Figure size 432x288 with 2 Axes>"
      ]
     },
     "metadata": {
      "needs_background": "light"
     },
     "output_type": "display_data"
    }
   ],
   "source": [
    "# Se elimino la columna 'Age'\n",
    "Metal=datos.drop(columns=['Age'])\n",
    "# Se agruparon los datos por la columna 'Frequency__Classical_' y se saco el promedio por grupo.\n",
    "Metal2=Metal.groupby(['Frequency__Metal_']).mean()\n",
    "# Se reacomodaron los indices.\n",
    "Metal2=Metal2.reset_index()\n",
    "# Se definio como indice  del dataframe a la columna 'Frequency__Metal_'\n",
    "Metal2=Metal2.set_index('Frequency__Metal_')\n",
    "# Se dividieron los promedios de cada columna entrer el promedio total.\n",
    "Metal2['Anxiety']/=5.836957\n",
    "Metal2['Insomnia']/=3.738451\n",
    "Metal2['Depression']/=4.796196 \n",
    "# Se graficaron los proedios entre los promedios totales  en un heatmap.\n",
    "sns.heatmap(Metal2,annot=Metal2,fmt='.2f',cmap='RdPu')"
   ]
  },
  {
   "attachments": {},
   "cell_type": "markdown",
   "id": "b72d948a",
   "metadata": {},
   "source": [
    "<span style='color:Violet'> Se observa que las personas que escuchan metal com más frecuencia presentan más insomnio, en el caso de la ansiedad no se puede concluir si hay alguna relación o no, finalmete para se presenta menor depresión en las personas que no escuchan mental frecuentemente. </span>"
   ]
  }
 ],
 "metadata": {
  "kernelspec": {
   "display_name": "Python 3 (ipykernel)",
   "language": "python",
   "name": "python3"
  },
  "language_info": {
   "codemirror_mode": {
    "name": "ipython",
    "version": 3
   },
   "file_extension": ".py",
   "mimetype": "text/x-python",
   "name": "python",
   "nbconvert_exporter": "python",
   "pygments_lexer": "ipython3",
   "version": "3.9.7"
  }
 },
 "nbformat": 4,
 "nbformat_minor": 5
}
